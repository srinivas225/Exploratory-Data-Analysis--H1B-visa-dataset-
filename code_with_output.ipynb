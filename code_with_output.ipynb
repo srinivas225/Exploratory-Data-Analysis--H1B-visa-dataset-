{
  "nbformat": 4,
  "nbformat_minor": 0,
  "metadata": {
    "colab": {
      "name": "Untitled3.ipynb",
      "provenance": [],
      "authorship_tag": "ABX9TyNnNYIHQN3nJrJef1TzL7Nj",
      "include_colab_link": true
    },
    "kernelspec": {
      "name": "python3",
      "display_name": "Python 3"
    }
  },
  "cells": [
    {
      "cell_type": "markdown",
      "metadata": {
        "id": "view-in-github",
        "colab_type": "text"
      },
      "source": [
        "<a href=\"https://colab.research.google.com/github/srinivas225/Exploratory-Data-Analysis--H1B-visa-dataset-/blob/master/code_with_output.ipynb\" target=\"_parent\"><img src=\"https://colab.research.google.com/assets/colab-badge.svg\" alt=\"Open In Colab\"/></a>"
      ]
    },
    {
      "cell_type": "code",
      "metadata": {
        "id": "VmsfI-zWJQHv",
        "colab_type": "code",
        "outputId": "1abd0a77-9ce3-4e10-e0d1-9e41d4cd3db3",
        "colab": {
          "base_uri": "https://localhost:8080/",
          "height": 34
        }
      },
      "source": [
        "# import libraries\n",
        "import numpy as np\n",
        "import pandas as pd\n",
        "import os\n",
        "os.getcwd()                 # get working dir\n",
        "#os.chdir(\"C:\\\\Users\\\\Admin\\\\Desktop\\\\data science classes\")       # Setting directory\n"
      ],
      "execution_count": 0,
      "outputs": [
        {
          "output_type": "execute_result",
          "data": {
            "text/plain": [
              "'/content'"
            ]
          },
          "metadata": {
            "tags": []
          },
          "execution_count": 4
        }
      ]
    },
    {
      "cell_type": "code",
      "metadata": {
        "id": "mr6-cLwHKV85",
        "colab_type": "code",
        "outputId": "5ab6942c-812a-4f01-cb95-174f733eaf41",
        "colab": {
          "base_uri": "https://localhost:8080/",
          "height": 406
        }
      },
      "source": [
        "# Reading a data file\n",
        "data = pd.read_csv(\"/content/H1B.csv\")\n",
        "data"
      ],
      "execution_count": 18,
      "outputs": [
        {
          "output_type": "execute_result",
          "data": {
            "text/html": [
              "<div>\n",
              "<style scoped>\n",
              "    .dataframe tbody tr th:only-of-type {\n",
              "        vertical-align: middle;\n",
              "    }\n",
              "\n",
              "    .dataframe tbody tr th {\n",
              "        vertical-align: top;\n",
              "    }\n",
              "\n",
              "    .dataframe thead th {\n",
              "        text-align: right;\n",
              "    }\n",
              "</style>\n",
              "<table border=\"1\" class=\"dataframe\">\n",
              "  <thead>\n",
              "    <tr style=\"text-align: right;\">\n",
              "      <th></th>\n",
              "      <th>CASE_STATUS</th>\n",
              "      <th>EMPLOYER_NAME</th>\n",
              "      <th>PREVAILING_WAGE</th>\n",
              "      <th>WORKSITE</th>\n",
              "      <th>FULL_TIME_POSITION</th>\n",
              "    </tr>\n",
              "  </thead>\n",
              "  <tbody>\n",
              "    <tr>\n",
              "      <th>0</th>\n",
              "      <td>CERTIFIED-WITHDRAWN</td>\n",
              "      <td>UNIVERSITY OF MICHIGAN</td>\n",
              "      <td>36067.0</td>\n",
              "      <td>ANN ARBOR, MICHIGAN</td>\n",
              "      <td>N</td>\n",
              "    </tr>\n",
              "    <tr>\n",
              "      <th>1</th>\n",
              "      <td>CERTIFIED-WITHDRAWN</td>\n",
              "      <td>GOODMAN NETWORKS, INC.</td>\n",
              "      <td>242674.0</td>\n",
              "      <td>PLANO, TEXAS</td>\n",
              "      <td>Y</td>\n",
              "    </tr>\n",
              "    <tr>\n",
              "      <th>2</th>\n",
              "      <td>CERTIFIED-WITHDRAWN</td>\n",
              "      <td>PORTS AMERICA GROUP, INC.</td>\n",
              "      <td>193066.0</td>\n",
              "      <td>JERSEY CITY, NEW JERSEY</td>\n",
              "      <td>Y</td>\n",
              "    </tr>\n",
              "    <tr>\n",
              "      <th>3</th>\n",
              "      <td>CERTIFIED-WITHDRAWN</td>\n",
              "      <td>GATES CORPORATION, A WHOLLY-OWNED SUBSIDIARY O...</td>\n",
              "      <td>220314.0</td>\n",
              "      <td>DENVER, COLORADO</td>\n",
              "      <td>Y</td>\n",
              "    </tr>\n",
              "    <tr>\n",
              "      <th>4</th>\n",
              "      <td>CERTIFIED-WITHDRAWN</td>\n",
              "      <td>BURGER KING CORPORATION</td>\n",
              "      <td>225000.0</td>\n",
              "      <td>MIAMI, FLORIDA</td>\n",
              "      <td>Y</td>\n",
              "    </tr>\n",
              "    <tr>\n",
              "      <th>...</th>\n",
              "      <td>...</td>\n",
              "      <td>...</td>\n",
              "      <td>...</td>\n",
              "      <td>...</td>\n",
              "      <td>...</td>\n",
              "    </tr>\n",
              "    <tr>\n",
              "      <th>485335</th>\n",
              "      <td>CERTIFIED</td>\n",
              "      <td>SIGMAWAYS, INC</td>\n",
              "      <td>75421.0</td>\n",
              "      <td>FREMONT, CALIFORNIA</td>\n",
              "      <td>Y</td>\n",
              "    </tr>\n",
              "    <tr>\n",
              "      <th>485336</th>\n",
              "      <td>WITHDRAWN</td>\n",
              "      <td>COMMONWEALTH HEALTHCARE CORPORATION</td>\n",
              "      <td>45011.2</td>\n",
              "      <td>SAIPAN, NA</td>\n",
              "      <td>N</td>\n",
              "    </tr>\n",
              "    <tr>\n",
              "      <th>485337</th>\n",
              "      <td>WITHDRAWN</td>\n",
              "      <td>IBM INDIA PRIVATE LIMITED</td>\n",
              "      <td>70304.0</td>\n",
              "      <td>MIDDLETOWN, NEW JERSEY</td>\n",
              "      <td>Y</td>\n",
              "    </tr>\n",
              "    <tr>\n",
              "      <th>485338</th>\n",
              "      <td>WITHDRAWN</td>\n",
              "      <td>TECHNOPLUS INC</td>\n",
              "      <td>71032.0</td>\n",
              "      <td>COPPELL, TEXAS</td>\n",
              "      <td>Y</td>\n",
              "    </tr>\n",
              "    <tr>\n",
              "      <th>485339</th>\n",
              "      <td>CERTIFIED</td>\n",
              "      <td>IRIS SOFTWARE, INC.</td>\n",
              "      <td>83740.8</td>\n",
              "      <td>FORT MILL, SOUTH CAROLINA</td>\n",
              "      <td>Y</td>\n",
              "    </tr>\n",
              "  </tbody>\n",
              "</table>\n",
              "<p>485340 rows × 5 columns</p>\n",
              "</div>"
            ],
            "text/plain": [
              "                CASE_STATUS  ... FULL_TIME_POSITION\n",
              "0       CERTIFIED-WITHDRAWN  ...                  N\n",
              "1       CERTIFIED-WITHDRAWN  ...                  Y\n",
              "2       CERTIFIED-WITHDRAWN  ...                  Y\n",
              "3       CERTIFIED-WITHDRAWN  ...                  Y\n",
              "4       CERTIFIED-WITHDRAWN  ...                  Y\n",
              "...                     ...  ...                ...\n",
              "485335            CERTIFIED  ...                  Y\n",
              "485336            WITHDRAWN  ...                  N\n",
              "485337            WITHDRAWN  ...                  Y\n",
              "485338            WITHDRAWN  ...                  Y\n",
              "485339            CERTIFIED  ...                  Y\n",
              "\n",
              "[485340 rows x 5 columns]"
            ]
          },
          "metadata": {
            "tags": []
          },
          "execution_count": 18
        }
      ]
    },
    {
      "cell_type": "code",
      "metadata": {
        "id": "NksCPycGK1Q8",
        "colab_type": "code",
        "outputId": "f41957b7-18a6-4eb1-9c8b-4d3c14e15335",
        "colab": {
          "base_uri": "https://localhost:8080/",
          "height": 52
        }
      },
      "source": [
        "#1)\tCASE_STATUS: This field denotes the status of the application after LCA (Labor Condition Application) processing.\n",
        "#a.\tCERTIFIED: Eligible for H1B Visa\n",
        "\n",
        "a=data.CASE_STATUS.value_counts()\n",
        "c=a[0]\n",
        "b=sum(a)\n",
        "x=(c/b)*100\n",
        "print('% of cases are CERTIFIED = ',x)\n",
        "print('cased were DENIED= ',a[3])\n",
        "\n"
      ],
      "execution_count": 0,
      "outputs": [
        {
          "output_type": "stream",
          "text": [
            "% of cases are CERTIFIED =  88.66133272728212\n",
            "cased were DENIED=  2393\n"
          ],
          "name": "stdout"
        }
      ]
    },
    {
      "cell_type": "code",
      "metadata": {
        "id": "BUVUzePzMByh",
        "colab_type": "code",
        "outputId": "1dfa2e28-d0c0-442f-9b4c-19d3107c6e16",
        "colab": {
          "base_uri": "https://localhost:8080/",
          "height": 354
        }
      },
      "source": [
        "#a.\tTop 10 Employer filing for H1B visa, what can you infer from it?\n",
        "top10=data['EMPLOYER_NAME'].value_counts()[0:10]\n",
        "print('Top 10 Employer filing for H1B visa \\n',top10)\n",
        "#b.\tTop 5 Employer whose visa application are denied maximum number of times.\n",
        "j=data[data['CASE_STATUS'] == 'DENIED']\n",
        "s=j[['CASE_STATUS', 'EMPLOYER_NAME']]\n",
        "g=s['EMPLOYER_NAME'].value_counts()[0:5]\n",
        "print('Top 5 Employer whose visa application are denied maximum number of times\\n',g)"
      ],
      "execution_count": 0,
      "outputs": [
        {
          "output_type": "stream",
          "text": [
            "Top 10 Employer filing for H1B visa \n",
            " INFOSYS LIMITED                                    14682\n",
            "IBM INDIA PRIVATE LIMITED                           6007\n",
            "ACCENTURE LLP                                       3908\n",
            "COGNIZANT TECHNOLOGY SOLUTIONS U.S. CORPORATION     3771\n",
            "ERNST & YOUNG U.S. LLP                              3267\n",
            "DELOITTE CONSULTING LLP                             2992\n",
            "TECH MAHINDRA (AMERICAS),INC.                       2652\n",
            "TATA CONSULTANCY SERVICES LIMITED                   2418\n",
            "CAPGEMINI AMERICA INC                               2195\n",
            "WIPRO LIMITED                                       1721\n",
            "Name: EMPLOYER_NAME, dtype: int64\n",
            "Top 5 Employer whose visa application are denied maximum number of times\n",
            " ACCENZ LLC                                      47\n",
            "DELOITTE CONSULTING LLP                         42\n",
            "ERNST & YOUNG U.S. LLP                          33\n",
            "PRICEWATERHOUSECOOPERS ADVISORY SERVICES LLC    17\n",
            "IBM INDIA PRIVATE LIMITED                       16\n",
            "Name: EMPLOYER_NAME, dtype: int64\n"
          ],
          "name": "stdout"
        }
      ]
    },
    {
      "cell_type": "code",
      "metadata": {
        "id": "fcENLgGZMux_",
        "colab_type": "code",
        "outputId": "371b20af-849a-4d81-a91b-e60e071a54de",
        "colab": {
          "base_uri": "https://localhost:8080/",
          "height": 70
        }
      },
      "source": [
        "#4)\tMaximum number of visa application are certified for which WORKSITE\n",
        "y=data.WORKSITE.value_counts()\n",
        "z=y.head(1)\n",
        "print('Maximum number of visa application are certified for which WORKSITE\\n',z)"
      ],
      "execution_count": 27,
      "outputs": [
        {
          "output_type": "stream",
          "text": [
            "Maximum number of visa application are certified for which WORKSITE\n",
            " NEW YORK, NEW YORK    29891\n",
            "Name: WORKSITE, dtype: int64\n"
          ],
          "name": "stdout"
        }
      ]
    },
    {
      "cell_type": "code",
      "metadata": {
        "id": "An3BswTgOi9v",
        "colab_type": "code",
        "outputId": "3babef89-5a42-4e6a-e027-988ed81046ff",
        "colab": {
          "base_uri": "https://localhost:8080/",
          "height": 87
        }
      },
      "source": [
        "#5)\tApproximately what % of certified visa application are for part time position, considering top employer and for worksite which we identified in Q4\n",
        "g=data[data.WORKSITE=='NEW YORK, NEW YORK']\n",
        "a=g[g.FULL_TIME_POSITION=='N']\n",
        "c=g.WORKSITE.value_counts().sum()\n",
        "a=a.FULL_TIME_POSITION.value_counts().sum()\n",
        "print(c)\n",
        "print(a)\n",
        "u=(a/c)*100\n",
        "print('Approximately what % of certified visa application are for part time position\\n',u)\n",
        "\n"
      ],
      "execution_count": 66,
      "outputs": [
        {
          "output_type": "stream",
          "text": [
            "29891\n",
            "13469\n",
            "Approximately what % of certified visa application are for part time position\n",
            " 45.06038606938543\n"
          ],
          "name": "stdout"
        }
      ]
    }
  ]
}